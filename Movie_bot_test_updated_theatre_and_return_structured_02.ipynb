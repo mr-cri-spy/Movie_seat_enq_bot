{
  "nbformat": 4,
  "nbformat_minor": 0,
  "metadata": {
    "colab": {
      "provenance": [],
      "authorship_tag": "ABX9TyOkmNwY8ers8ncpejSdGLD/",
      "include_colab_link": true
    },
    "kernelspec": {
      "name": "python3",
      "display_name": "Python 3"
    },
    "language_info": {
      "name": "python"
    }
  },
  "cells": [
    {
      "cell_type": "markdown",
      "metadata": {
        "id": "view-in-github",
        "colab_type": "text"
      },
      "source": [
        "<a href=\"https://colab.research.google.com/github/mr-cri-spy/Movie_seat_enq_bot/blob/main/Movie_bot_test_updated_theatre_and_return_structured_02.ipynb\" target=\"_parent\"><img src=\"https://colab.research.google.com/assets/colab-badge.svg\" alt=\"Open In Colab\"/></a>"
      ]
    },
    {
      "cell_type": "markdown",
      "source": [
        "Project Structure"
      ],
      "metadata": {
        "id": "SqNXgMALV4zU"
      }
    },
    {
      "cell_type": "markdown",
      "source": [
        "1. User Query Input → Natural Language\n",
        "2. LLM Layer → Understand movie name, city, date\n",
        "3. Web Scraper Layer → Hit BookMyShow or PaytmMovies URLs\n",
        "4. Parse Theatre & Seat Info\n",
        "5. Display Output\n"
      ],
      "metadata": {
        "id": "QROqLDlIV52p"
      }
    },
    {
      "cell_type": "markdown",
      "source": [
        "Query Understanding + Web Search\n",
        "\n",
        "User Input\n",
        "LLM based Movie/City extraction (using transformers)\n",
        "Search URLs dynamically (simulate booking.com / bookmyshow search)"
      ],
      "metadata": {
        "id": "KbDiRGI_V9h1"
      }
    },
    {
      "cell_type": "code",
      "source": [
        "\n",
        "!pip install transformers beautifulsoup4 requests\n",
        "\n",
        "# --- Imports ---\n",
        "import re\n",
        "import requests\n",
        "from bs4 import BeautifulSoup\n",
        "from transformers import pipeline\n",
        "\n",
        "# --- Step 1: LLM-based Entity Extraction ---\n",
        "nlp = pipeline(\"ner\", grouped_entities=True)\n",
        "\n",
        "def extract_entities(user_input):\n",
        "    entities = nlp(user_input)\n",
        "    movie = city = date = None\n",
        "    for ent in entities:\n",
        "        if ent['entity_group'] == 'ORG' or ent['entity_group'] == 'MISC':\n",
        "            movie = ent['word']\n",
        "        elif ent['entity_group'] == 'LOC':\n",
        "            city = ent['word']\n",
        "        elif ent['entity_group'] == 'DATE':\n",
        "            date = ent['word']\n",
        "    return movie, city, date\n",
        "\n",
        "# --- Step 2: Simulate Web Search URL (e.g., BookMyShow or PaytmMovies) ---\n",
        "def construct_search_url(movie, city):\n",
        "    city = city.lower().replace(\" \", \"\")\n",
        "    movie = movie.lower().replace(\" \", \"-\")\n",
        "    return f\"https://in.bookmyshow.com/explore/movies-{city}/{movie}\"\n",
        "\n",
        "# --- Step 3: User Query Input ---\n",
        "user_input = input(\"Ask me about a movie seat availability: \")\n",
        "movie, city, date = extract_entities(user_input)\n",
        "\n",
        "print(\" Movie:\", movie)\n",
        "print(\" City:\", city)\n",
        "print(\" Date:\", date)\n",
        "\n",
        "search_url = construct_search_url(movie or \"Su from so\", city or \"mysore\")\n",
        "print(\" Searching:\", search_url)\n",
        "\n",
        "\n",
        "# --- Step 4: Scrape Movie Page (Theatre Names, Timings) ---\n",
        "def scrape_theatre_list(url):\n",
        "    headers = {\n",
        "        \"User-Agent\": \"Mozilla/5.0\"\n",
        "    }\n",
        "\n",
        "    response = requests.get(url, headers=headers)\n",
        "\n",
        "    if response.status_code != 200:\n",
        "        print(\" Failed to load the page. Maybe wrong city/movie name.\")\n",
        "        return []\n",
        "\n",
        "    soup = BeautifulSoup(response.text, \"html.parser\")\n",
        "\n",
        "    # Try to find theatre info – this is simplified\n",
        "    theatres = soup.find_all(\"div\", class_=\"__venue-name\")  # might need tuning\n",
        "    theatre_list = []\n",
        "    for theatre in theatres:\n",
        "        name = theatre.get_text(strip=True)\n",
        "        theatre_list.append(name)\n",
        "\n",
        "    if not theatre_list:\n",
        "        print(\" Couldn’t extract theatres. The site might be JS-rendered.\")\n",
        "    return theatre_list\n",
        "\n",
        "# --- Step 5: Run Theatre Extraction ---\n",
        "print(\"\\n Fetching available theatres...\\n\")\n",
        "theatres = scrape_theatre_list(search_url)\n",
        "\n",
        "if theatres:\n",
        "    for idx, t in enumerate(theatres, 1):\n",
        "        print(f\"{idx}. {t}\")\n",
        "else:\n",
        "    print(\" No theatres found. Let's simulate with static HTML next.\")\n",
        "\n"
      ],
      "metadata": {
        "colab": {
          "base_uri": "https://localhost:8080/"
        },
        "id": "kXaO9q5gWXBt",
        "outputId": "0cc9658e-be76-4233-8a23-bb4d25e86f01"
      },
      "execution_count": 21,
      "outputs": [
        {
          "output_type": "stream",
          "name": "stdout",
          "text": [
            "Requirement already satisfied: transformers in /usr/local/lib/python3.11/dist-packages (4.54.0)\n",
            "Requirement already satisfied: beautifulsoup4 in /usr/local/lib/python3.11/dist-packages (4.13.4)\n",
            "Requirement already satisfied: requests in /usr/local/lib/python3.11/dist-packages (2.32.3)\n",
            "Requirement already satisfied: filelock in /usr/local/lib/python3.11/dist-packages (from transformers) (3.18.0)\n",
            "Requirement already satisfied: huggingface-hub<1.0,>=0.34.0 in /usr/local/lib/python3.11/dist-packages (from transformers) (0.34.1)\n",
            "Requirement already satisfied: numpy>=1.17 in /usr/local/lib/python3.11/dist-packages (from transformers) (2.0.2)\n",
            "Requirement already satisfied: packaging>=20.0 in /usr/local/lib/python3.11/dist-packages (from transformers) (25.0)\n",
            "Requirement already satisfied: pyyaml>=5.1 in /usr/local/lib/python3.11/dist-packages (from transformers) (6.0.2)\n",
            "Requirement already satisfied: regex!=2019.12.17 in /usr/local/lib/python3.11/dist-packages (from transformers) (2024.11.6)\n",
            "Requirement already satisfied: tokenizers<0.22,>=0.21 in /usr/local/lib/python3.11/dist-packages (from transformers) (0.21.2)\n",
            "Requirement already satisfied: safetensors>=0.4.3 in /usr/local/lib/python3.11/dist-packages (from transformers) (0.5.3)\n",
            "Requirement already satisfied: tqdm>=4.27 in /usr/local/lib/python3.11/dist-packages (from transformers) (4.67.1)\n",
            "Requirement already satisfied: soupsieve>1.2 in /usr/local/lib/python3.11/dist-packages (from beautifulsoup4) (2.7)\n",
            "Requirement already satisfied: typing-extensions>=4.0.0 in /usr/local/lib/python3.11/dist-packages (from beautifulsoup4) (4.14.1)\n",
            "Requirement already satisfied: charset-normalizer<4,>=2 in /usr/local/lib/python3.11/dist-packages (from requests) (3.4.2)\n",
            "Requirement already satisfied: idna<4,>=2.5 in /usr/local/lib/python3.11/dist-packages (from requests) (3.10)\n",
            "Requirement already satisfied: urllib3<3,>=1.21.1 in /usr/local/lib/python3.11/dist-packages (from requests) (2.5.0)\n",
            "Requirement already satisfied: certifi>=2017.4.17 in /usr/local/lib/python3.11/dist-packages (from requests) (2025.7.14)\n",
            "Requirement already satisfied: fsspec>=2023.5.0 in /usr/local/lib/python3.11/dist-packages (from huggingface-hub<1.0,>=0.34.0->transformers) (2025.3.0)\n",
            "Requirement already satisfied: hf-xet<2.0.0,>=1.1.3 in /usr/local/lib/python3.11/dist-packages (from huggingface-hub<1.0,>=0.34.0->transformers) (1.1.5)\n"
          ]
        },
        {
          "output_type": "stream",
          "name": "stderr",
          "text": [
            "No model was supplied, defaulted to dbmdz/bert-large-cased-finetuned-conll03-english and revision 4c53496 (https://huggingface.co/dbmdz/bert-large-cased-finetuned-conll03-english).\n",
            "Using a pipeline without specifying a model name and revision in production is not recommended.\n",
            "Some weights of the model checkpoint at dbmdz/bert-large-cased-finetuned-conll03-english were not used when initializing BertForTokenClassification: ['bert.pooler.dense.bias', 'bert.pooler.dense.weight']\n",
            "- This IS expected if you are initializing BertForTokenClassification from the checkpoint of a model trained on another task or with another architecture (e.g. initializing a BertForSequenceClassification model from a BertForPreTraining model).\n",
            "- This IS NOT expected if you are initializing BertForTokenClassification from the checkpoint of a model that you expect to be exactly identical (initializing a BertForSequenceClassification model from a BertForSequenceClassification model).\n",
            "Device set to use cpu\n"
          ]
        },
        {
          "output_type": "stream",
          "name": "stdout",
          "text": [
            "Ask me about a movie seat availability: kingdome movie availble in mysore\n",
            " Movie: None\n",
            " City: None\n",
            " Date: None\n",
            " Searching: https://in.bookmyshow.com/explore/movies-mysore/su-from-so\n",
            "\n",
            " Fetching available theatres...\n",
            "\n",
            " Failed to load the page. Maybe wrong city/movie name.\n",
            " No theatres found. Let's simulate with static HTML next.\n"
          ]
        }
      ]
    },
    {
      "cell_type": "markdown",
      "source": [
        "Install required libraries (run this only once)"
      ],
      "metadata": {
        "id": "taGcV148WYBb"
      }
    },
    {
      "cell_type": "code",
      "source": [
        "# --- Step 4: Scrape Movie Page (Theatre Names, Timings) ---\n",
        "def scrape_theatre_list(url):\n",
        "    headers = {\n",
        "        \"User-Agent\": \"Mozilla/5.0\"\n",
        "    }\n",
        "\n",
        "    response = requests.get(url, headers=headers)\n",
        "\n",
        "    if response.status_code != 200:\n",
        "        print(\" Failed to load the page. Maybe wrong city/movie name.\")\n",
        "        return []\n",
        "\n",
        "    soup = BeautifulSoup(response.text, \"html.parser\")\n",
        "\n",
        "    # Try to find theatre info – this is simplified\n",
        "    theatres = soup.find_all(\"div\", class_=\"__venue-name\")  # might need tuning\n",
        "    theatre_list = []\n",
        "    for theatre in theatres:\n",
        "        name = theatre.get_text(strip=True)\n",
        "        theatre_list.append(name)\n",
        "\n",
        "    if not theatre_list:\n",
        "        print(\" Couldn’t extract theatres. The site might be JS-rendered.\")\n",
        "    return theatre_list\n",
        "\n",
        "# --- Step 5: Run Theatre Extraction ---\n",
        "print(\"\\n Fetching available theatres...\\n\")\n",
        "theatres = scrape_theatre_list(search_url)\n",
        "\n",
        "if theatres:\n",
        "    for idx, t in enumerate(theatres, 1):\n",
        "        print(f\"{idx}. {t}\")\n",
        "else:\n",
        "    print(\" No theatres found. Let's simulate with static HTML next.\")\n",
        "\n",
        "\n",
        "    # --- Step 6: Simulated HTML (fake seat map) ---\n",
        "simulated_html = \"\"\"\n",
        "<div class=\"theatre\">\n",
        "    <h3>Kingdome Theatre, Mysore</h3>\n",
        "    <div class=\"seats\">\n",
        "        <span class=\"seat available\">A1</span>\n",
        "        <span class=\"seat booked\">A2</span>\n",
        "        <span class=\"seat available\">A3</span>\n",
        "        <span class=\"seat booked\">A4</span>\n",
        "        <span class=\"seat available\">B1</span>\n",
        "        <span class=\"seat booked\">B2</span>\n",
        "        <span class=\"seat available\">B3</span>\n",
        "        <span class=\"seat available\">B4</span>\n",
        "        <!-- Simulate more if needed -->\n",
        "    </div>\n",
        "</div>\n",
        "\"\"\"\n",
        "\n",
        "# --- Step 7: Parse Simulated Seats ---\n",
        "def parse_seat_availability(html):\n",
        "    soup = BeautifulSoup(html, \"html.parser\")\n",
        "    theatre_name = soup.find(\"h3\").text.strip()\n",
        "    seats = soup.find_all(\"span\", class_=\"seat\")\n",
        "\n",
        "    total = len(seats)\n",
        "    booked = len([s for s in seats if 'booked' in s['class']])\n",
        "    available = total - booked\n",
        "\n",
        "    return theatre_name, total, booked, available\n",
        "\n",
        "# --- Step 8: Display Results ---\n",
        "theatre, total, booked, available = parse_seat_availability(simulated_html)\n",
        "\n",
        "print(f\"\\n {theatre}\")\n",
        "print(f\" Total Seats: {total}\")\n",
        "print(f\" Booked Seats: {booked}\")\n",
        "print(f\" Available Seats: {available}\")\n",
        "\n",
        "\n",
        "\n",
        "\n"
      ],
      "metadata": {
        "colab": {
          "base_uri": "https://localhost:8080/"
        },
        "id": "szaV4a2jWfTT",
        "outputId": "96b61f67-e712-470e-c52f-4c9ab112b59d"
      },
      "execution_count": 22,
      "outputs": [
        {
          "output_type": "stream",
          "name": "stdout",
          "text": [
            "\n",
            " Fetching available theatres...\n",
            "\n",
            " Failed to load the page. Maybe wrong city/movie name.\n",
            " No theatres found. Let's simulate with static HTML next.\n",
            "\n",
            " Kingdome Theatre, Mysore\n",
            " Total Seats: 8\n",
            " Booked Seats: 3\n",
            " Available Seats: 5\n"
          ]
        }
      ]
    },
    {
      "cell_type": "code",
      "source": [
        "#  Setup\n",
        "!pip install transformers beautifulsoup4 requests\n",
        "\n",
        "from transformers import pipeline\n",
        "from bs4 import BeautifulSoup\n",
        "import re\n",
        "\n",
        "#  Load LLM-based NER\n",
        "ner_pipeline = pipeline(\"ner\", grouped_entities=True)\n",
        "\n",
        "#  Step 1: Extract Movie & City\n",
        "def extract_entities(text):\n",
        "    ents = ner_pipeline(text)\n",
        "    movie = city = None\n",
        "    for ent in ents:\n",
        "        label = ent['entity_group']\n",
        "        word = ent['word']\n",
        "        if label in ['ORG', 'MISC']:\n",
        "            movie = movie or word\n",
        "        elif label == 'LOC':\n",
        "            city = city or word\n",
        "    return movie, city\n",
        "\n",
        "# Step 2: Simulate Theatre Seat HTML\n",
        "def get_simulated_theatre_html(movie_name, city_name):\n",
        "    return f\"\"\"\n",
        "    <div class=\"theatre\">\n",
        "        <h3>{movie_name or \"Some Movie\"} - Kingdome Theatre, {city_name or \"Mysore\"}</h3>\n",
        "        <div class=\"seats\">\n",
        "            <span class=\"seat available\">A1</span>\n",
        "            <span class=\"seat booked\">A2</span>\n",
        "            <span class=\"seat available\">A3</span>\n",
        "            <span class=\"seat booked\">A4</span>\n",
        "            <span class=\"seat available\">B1</span>\n",
        "            <span class=\"seat booked\">B2</span>\n",
        "            <span class=\"seat available\">B3</span>\n",
        "            <span class=\"seat available\">B4</span>\n",
        "        </div>\n",
        "    </div>\n",
        "    \"\"\"\n",
        "\n",
        "#  Step 3: Parse Seat Info\n",
        "def parse_seat_availability(html):\n",
        "    soup = BeautifulSoup(html, \"html.parser\")\n",
        "    theatre_name = soup.find(\"h3\").text.strip()\n",
        "    seats = soup.find_all(\"span\", class_=\"seat\")\n",
        "\n",
        "    total = len(seats)\n",
        "    booked = len([s for s in seats if 'booked' in s['class']])\n",
        "    available = total - booked\n",
        "\n",
        "    return theatre_name, total, booked, available\n",
        "\n",
        "#  Step 4: Full Chatbot Flow\n",
        "def movie_bot_response(user_input):\n",
        "    print(\"\\n User Asked:\", user_input)\n",
        "\n",
        "    movie, city = extract_entities(user_input)\n",
        "    print(\" Movie:\", movie)\n",
        "    print(\" City:\", city)\n",
        "\n",
        "    html = get_simulated_theatre_html(movie, city)\n",
        "    theatre, total, booked, available = parse_seat_availability(html)\n",
        "\n",
        "    print(\"\\n\", theatre)\n",
        "    print(\" Total Seats:\", total)\n",
        "    print(\" Booked Seats:\", booked)\n",
        "    print(\" Available Seats:\", available)\n",
        "\n",
        "#  TEST HERE\n",
        "movie_bot_response(\"In Mysore are available Kingdome movie seats?\")\n"
      ],
      "metadata": {
        "colab": {
          "base_uri": "https://localhost:8080/"
        },
        "id": "7Je8sbBGZyXj",
        "outputId": "4407ff7f-b32b-492f-f941-c07ac0705da3"
      },
      "execution_count": 23,
      "outputs": [
        {
          "output_type": "stream",
          "name": "stdout",
          "text": [
            "Requirement already satisfied: transformers in /usr/local/lib/python3.11/dist-packages (4.54.0)\n",
            "Requirement already satisfied: beautifulsoup4 in /usr/local/lib/python3.11/dist-packages (4.13.4)\n",
            "Requirement already satisfied: requests in /usr/local/lib/python3.11/dist-packages (2.32.3)\n",
            "Requirement already satisfied: filelock in /usr/local/lib/python3.11/dist-packages (from transformers) (3.18.0)\n",
            "Requirement already satisfied: huggingface-hub<1.0,>=0.34.0 in /usr/local/lib/python3.11/dist-packages (from transformers) (0.34.1)\n",
            "Requirement already satisfied: numpy>=1.17 in /usr/local/lib/python3.11/dist-packages (from transformers) (2.0.2)\n",
            "Requirement already satisfied: packaging>=20.0 in /usr/local/lib/python3.11/dist-packages (from transformers) (25.0)\n",
            "Requirement already satisfied: pyyaml>=5.1 in /usr/local/lib/python3.11/dist-packages (from transformers) (6.0.2)\n",
            "Requirement already satisfied: regex!=2019.12.17 in /usr/local/lib/python3.11/dist-packages (from transformers) (2024.11.6)\n",
            "Requirement already satisfied: tokenizers<0.22,>=0.21 in /usr/local/lib/python3.11/dist-packages (from transformers) (0.21.2)\n",
            "Requirement already satisfied: safetensors>=0.4.3 in /usr/local/lib/python3.11/dist-packages (from transformers) (0.5.3)\n",
            "Requirement already satisfied: tqdm>=4.27 in /usr/local/lib/python3.11/dist-packages (from transformers) (4.67.1)\n",
            "Requirement already satisfied: soupsieve>1.2 in /usr/local/lib/python3.11/dist-packages (from beautifulsoup4) (2.7)\n",
            "Requirement already satisfied: typing-extensions>=4.0.0 in /usr/local/lib/python3.11/dist-packages (from beautifulsoup4) (4.14.1)\n",
            "Requirement already satisfied: charset-normalizer<4,>=2 in /usr/local/lib/python3.11/dist-packages (from requests) (3.4.2)\n",
            "Requirement already satisfied: idna<4,>=2.5 in /usr/local/lib/python3.11/dist-packages (from requests) (3.10)\n",
            "Requirement already satisfied: urllib3<3,>=1.21.1 in /usr/local/lib/python3.11/dist-packages (from requests) (2.5.0)\n",
            "Requirement already satisfied: certifi>=2017.4.17 in /usr/local/lib/python3.11/dist-packages (from requests) (2025.7.14)\n",
            "Requirement already satisfied: fsspec>=2023.5.0 in /usr/local/lib/python3.11/dist-packages (from huggingface-hub<1.0,>=0.34.0->transformers) (2025.3.0)\n",
            "Requirement already satisfied: hf-xet<2.0.0,>=1.1.3 in /usr/local/lib/python3.11/dist-packages (from huggingface-hub<1.0,>=0.34.0->transformers) (1.1.5)\n"
          ]
        },
        {
          "output_type": "stream",
          "name": "stderr",
          "text": [
            "No model was supplied, defaulted to dbmdz/bert-large-cased-finetuned-conll03-english and revision 4c53496 (https://huggingface.co/dbmdz/bert-large-cased-finetuned-conll03-english).\n",
            "Using a pipeline without specifying a model name and revision in production is not recommended.\n",
            "Some weights of the model checkpoint at dbmdz/bert-large-cased-finetuned-conll03-english were not used when initializing BertForTokenClassification: ['bert.pooler.dense.bias', 'bert.pooler.dense.weight']\n",
            "- This IS expected if you are initializing BertForTokenClassification from the checkpoint of a model trained on another task or with another architecture (e.g. initializing a BertForSequenceClassification model from a BertForPreTraining model).\n",
            "- This IS NOT expected if you are initializing BertForTokenClassification from the checkpoint of a model that you expect to be exactly identical (initializing a BertForSequenceClassification model from a BertForSequenceClassification model).\n",
            "Device set to use cpu\n"
          ]
        },
        {
          "output_type": "stream",
          "name": "stdout",
          "text": [
            "\n",
            " User Asked: In Mysore are available Kingdome movie seats?\n",
            " Movie: Kingdome\n",
            " City: Mysore\n",
            "\n",
            " Kingdome - Kingdome Theatre, Mysore\n",
            " Total Seats: 8\n",
            " Booked Seats: 3\n",
            " Available Seats: 5\n"
          ]
        }
      ]
    },
    {
      "cell_type": "code",
      "source": [
        "!pip install spacy\n",
        "!python -m spacy download en_core_web_sm\n",
        "\n",
        "import spacy\n",
        "from bs4 import BeautifulSoup\n",
        "import random\n",
        "\n",
        "# Load spaCy model\n",
        "nlp = spacy.load(\"en_core_web_sm\")\n",
        "\n",
        "#  Extract movie and city\n",
        "def extract_movie_city_spacy(text):\n",
        "    doc = nlp(text)\n",
        "    movie = city = None\n",
        "    for ent in doc.ents:\n",
        "        if ent.label_ == \"GPE\":  # city/place\n",
        "            city = ent.text\n",
        "        elif ent.label_ in [\"ORG\", \"WORK_OF_ART\"]:  # possible movie\n",
        "            movie = ent.text\n",
        "    return movie, city\n"
      ],
      "metadata": {
        "colab": {
          "base_uri": "https://localhost:8080/"
        },
        "id": "WZTr2eeWaF-U",
        "outputId": "cb4456e5-1ac6-4821-d3f9-70c27ca5f8e8"
      },
      "execution_count": 24,
      "outputs": [
        {
          "output_type": "stream",
          "name": "stdout",
          "text": [
            "Requirement already satisfied: spacy in /usr/local/lib/python3.11/dist-packages (3.8.7)\n",
            "Requirement already satisfied: spacy-legacy<3.1.0,>=3.0.11 in /usr/local/lib/python3.11/dist-packages (from spacy) (3.0.12)\n",
            "Requirement already satisfied: spacy-loggers<2.0.0,>=1.0.0 in /usr/local/lib/python3.11/dist-packages (from spacy) (1.0.5)\n",
            "Requirement already satisfied: murmurhash<1.1.0,>=0.28.0 in /usr/local/lib/python3.11/dist-packages (from spacy) (1.0.13)\n",
            "Requirement already satisfied: cymem<2.1.0,>=2.0.2 in /usr/local/lib/python3.11/dist-packages (from spacy) (2.0.11)\n",
            "Requirement already satisfied: preshed<3.1.0,>=3.0.2 in /usr/local/lib/python3.11/dist-packages (from spacy) (3.0.10)\n",
            "Requirement already satisfied: thinc<8.4.0,>=8.3.4 in /usr/local/lib/python3.11/dist-packages (from spacy) (8.3.6)\n",
            "Requirement already satisfied: wasabi<1.2.0,>=0.9.1 in /usr/local/lib/python3.11/dist-packages (from spacy) (1.1.3)\n",
            "Requirement already satisfied: srsly<3.0.0,>=2.4.3 in /usr/local/lib/python3.11/dist-packages (from spacy) (2.5.1)\n",
            "Requirement already satisfied: catalogue<2.1.0,>=2.0.6 in /usr/local/lib/python3.11/dist-packages (from spacy) (2.0.10)\n",
            "Requirement already satisfied: weasel<0.5.0,>=0.1.0 in /usr/local/lib/python3.11/dist-packages (from spacy) (0.4.1)\n",
            "Requirement already satisfied: typer<1.0.0,>=0.3.0 in /usr/local/lib/python3.11/dist-packages (from spacy) (0.16.0)\n",
            "Requirement already satisfied: tqdm<5.0.0,>=4.38.0 in /usr/local/lib/python3.11/dist-packages (from spacy) (4.67.1)\n",
            "Requirement already satisfied: numpy>=1.19.0 in /usr/local/lib/python3.11/dist-packages (from spacy) (2.0.2)\n",
            "Requirement already satisfied: requests<3.0.0,>=2.13.0 in /usr/local/lib/python3.11/dist-packages (from spacy) (2.32.3)\n",
            "Requirement already satisfied: pydantic!=1.8,!=1.8.1,<3.0.0,>=1.7.4 in /usr/local/lib/python3.11/dist-packages (from spacy) (2.11.7)\n",
            "Requirement already satisfied: jinja2 in /usr/local/lib/python3.11/dist-packages (from spacy) (3.1.6)\n",
            "Requirement already satisfied: setuptools in /usr/local/lib/python3.11/dist-packages (from spacy) (75.2.0)\n",
            "Requirement already satisfied: packaging>=20.0 in /usr/local/lib/python3.11/dist-packages (from spacy) (25.0)\n",
            "Requirement already satisfied: langcodes<4.0.0,>=3.2.0 in /usr/local/lib/python3.11/dist-packages (from spacy) (3.5.0)\n",
            "Requirement already satisfied: language-data>=1.2 in /usr/local/lib/python3.11/dist-packages (from langcodes<4.0.0,>=3.2.0->spacy) (1.3.0)\n",
            "Requirement already satisfied: annotated-types>=0.6.0 in /usr/local/lib/python3.11/dist-packages (from pydantic!=1.8,!=1.8.1,<3.0.0,>=1.7.4->spacy) (0.7.0)\n",
            "Requirement already satisfied: pydantic-core==2.33.2 in /usr/local/lib/python3.11/dist-packages (from pydantic!=1.8,!=1.8.1,<3.0.0,>=1.7.4->spacy) (2.33.2)\n",
            "Requirement already satisfied: typing-extensions>=4.12.2 in /usr/local/lib/python3.11/dist-packages (from pydantic!=1.8,!=1.8.1,<3.0.0,>=1.7.4->spacy) (4.14.1)\n",
            "Requirement already satisfied: typing-inspection>=0.4.0 in /usr/local/lib/python3.11/dist-packages (from pydantic!=1.8,!=1.8.1,<3.0.0,>=1.7.4->spacy) (0.4.1)\n",
            "Requirement already satisfied: charset-normalizer<4,>=2 in /usr/local/lib/python3.11/dist-packages (from requests<3.0.0,>=2.13.0->spacy) (3.4.2)\n",
            "Requirement already satisfied: idna<4,>=2.5 in /usr/local/lib/python3.11/dist-packages (from requests<3.0.0,>=2.13.0->spacy) (3.10)\n",
            "Requirement already satisfied: urllib3<3,>=1.21.1 in /usr/local/lib/python3.11/dist-packages (from requests<3.0.0,>=2.13.0->spacy) (2.5.0)\n",
            "Requirement already satisfied: certifi>=2017.4.17 in /usr/local/lib/python3.11/dist-packages (from requests<3.0.0,>=2.13.0->spacy) (2025.7.14)\n",
            "Requirement already satisfied: blis<1.4.0,>=1.3.0 in /usr/local/lib/python3.11/dist-packages (from thinc<8.4.0,>=8.3.4->spacy) (1.3.0)\n",
            "Requirement already satisfied: confection<1.0.0,>=0.0.1 in /usr/local/lib/python3.11/dist-packages (from thinc<8.4.0,>=8.3.4->spacy) (0.1.5)\n",
            "Requirement already satisfied: click>=8.0.0 in /usr/local/lib/python3.11/dist-packages (from typer<1.0.0,>=0.3.0->spacy) (8.2.1)\n",
            "Requirement already satisfied: shellingham>=1.3.0 in /usr/local/lib/python3.11/dist-packages (from typer<1.0.0,>=0.3.0->spacy) (1.5.4)\n",
            "Requirement already satisfied: rich>=10.11.0 in /usr/local/lib/python3.11/dist-packages (from typer<1.0.0,>=0.3.0->spacy) (13.9.4)\n",
            "Requirement already satisfied: cloudpathlib<1.0.0,>=0.7.0 in /usr/local/lib/python3.11/dist-packages (from weasel<0.5.0,>=0.1.0->spacy) (0.21.1)\n",
            "Requirement already satisfied: smart-open<8.0.0,>=5.2.1 in /usr/local/lib/python3.11/dist-packages (from weasel<0.5.0,>=0.1.0->spacy) (7.3.0.post1)\n",
            "Requirement already satisfied: MarkupSafe>=2.0 in /usr/local/lib/python3.11/dist-packages (from jinja2->spacy) (3.0.2)\n",
            "Requirement already satisfied: marisa-trie>=1.1.0 in /usr/local/lib/python3.11/dist-packages (from language-data>=1.2->langcodes<4.0.0,>=3.2.0->spacy) (1.2.1)\n",
            "Requirement already satisfied: markdown-it-py>=2.2.0 in /usr/local/lib/python3.11/dist-packages (from rich>=10.11.0->typer<1.0.0,>=0.3.0->spacy) (3.0.0)\n",
            "Requirement already satisfied: pygments<3.0.0,>=2.13.0 in /usr/local/lib/python3.11/dist-packages (from rich>=10.11.0->typer<1.0.0,>=0.3.0->spacy) (2.19.2)\n",
            "Requirement already satisfied: wrapt in /usr/local/lib/python3.11/dist-packages (from smart-open<8.0.0,>=5.2.1->weasel<0.5.0,>=0.1.0->spacy) (1.17.2)\n",
            "Requirement already satisfied: mdurl~=0.1 in /usr/local/lib/python3.11/dist-packages (from markdown-it-py>=2.2.0->rich>=10.11.0->typer<1.0.0,>=0.3.0->spacy) (0.1.2)\n",
            "Collecting en-core-web-sm==3.8.0\n",
            "  Downloading https://github.com/explosion/spacy-models/releases/download/en_core_web_sm-3.8.0/en_core_web_sm-3.8.0-py3-none-any.whl (12.8 MB)\n",
            "\u001b[2K     \u001b[90m━━━━━━━━━━━━━━━━━━━━━━━━━━━━━━━━━━━━━━━━\u001b[0m \u001b[32m12.8/12.8 MB\u001b[0m \u001b[31m33.0 MB/s\u001b[0m eta \u001b[36m0:00:00\u001b[0m\n",
            "\u001b[?25h\u001b[38;5;2m✔ Download and installation successful\u001b[0m\n",
            "You can now load the package via spacy.load('en_core_web_sm')\n",
            "\u001b[38;5;3m⚠ Restart to reload dependencies\u001b[0m\n",
            "If you are in a Jupyter or Colab notebook, you may need to restart Python in\n",
            "order to load all the package's dependencies. You can do this by selecting the\n",
            "'Restart kernel' or 'Restart runtime' option.\n"
          ]
        }
      ]
    },
    {
      "cell_type": "code",
      "source": [
        "# Generate simulated seat map HTML for multiple theatres\n",
        "def simulate_multiple_theatres(movie, city):\n",
        "    theatre_list = [\"Kingdome\", \"Inox Forum\", \"PVR Mall\", \"DRC Cinemas\"]\n",
        "    html_blocks = []\n",
        "\n",
        "    for theatre in theatre_list:\n",
        "        total_seats = random.randint(80, 200)\n",
        "        booked = random.randint(10, total_seats - 10)\n",
        "        available = total_seats - booked\n",
        "\n",
        "        seat_html = f\"\"\"\n",
        "        <div class=\"theatre\">\n",
        "            <h3>{movie or 'Some Movie'} - {theatre}, {city or 'City'}</h3>\n",
        "            <div class=\"seats\" data-total=\"{total_seats}\" data-booked=\"{booked}\" data-available=\"{available}\">\n",
        "            </div>\n",
        "        </div>\n",
        "        \"\"\"\n",
        "        html_blocks.append(seat_html)\n",
        "\n",
        "    return \"\\n\".join(html_blocks)\n"
      ],
      "metadata": {
        "id": "9S9AeGD-aHI6"
      },
      "execution_count": 17,
      "outputs": []
    },
    {
      "cell_type": "code",
      "source": [
        "# Parse each theatre and return structured results\n",
        "def parse_all_theatres(html):\n",
        "    soup = BeautifulSoup(html, \"html.parser\")\n",
        "    theatres = soup.find_all(\"div\", class_=\"theatre\")\n",
        "    parsed = []\n",
        "\n",
        "    for theatre in theatres:\n",
        "        name = theatre.find(\"h3\").text.strip()\n",
        "        seats_info = theatre.find(\"div\", class_=\"seats\")\n",
        "        total = int(seats_info['data-total'])\n",
        "        booked = int(seats_info['data-booked'])\n",
        "        available = int(seats_info['data-available'])\n",
        "        parsed.append((name, total, booked, available))\n",
        "\n",
        "    return parsed\n"
      ],
      "metadata": {
        "id": "bjqHb_cIabp0"
      },
      "execution_count": 18,
      "outputs": []
    },
    {
      "cell_type": "code",
      "source": [
        "def movie_bot_v2(user_input):\n",
        "    print(\"\\n User Asked:\", user_input)\n",
        "\n",
        "    movie, city = extract_movie_city_spacy(user_input)\n",
        "    print(\" Movie:\", movie)\n",
        "    print(\" City:\", city)\n",
        "\n",
        "    html = simulate_multiple_theatres(movie, city)\n",
        "    results = parse_all_theatres(html)\n",
        "\n",
        "    print(\"\\n Results:\")\n",
        "    for name, total, booked, available in results:\n",
        "        print(f\"\\n {name}\")\n",
        "        print(f\" Total: {total}\")\n",
        "        print(f\" Booked: {booked}\")\n",
        "        print(f\" Available: {available}\")\n"
      ],
      "metadata": {
        "id": "6LgRi4NFahv1"
      },
      "execution_count": 25,
      "outputs": []
    },
    {
      "cell_type": "code",
      "source": [
        "movie_bot_v2(\"Show me Kalki movie seats in Mysore today\")\n"
      ],
      "metadata": {
        "colab": {
          "base_uri": "https://localhost:8080/"
        },
        "id": "4GGj4X0hanlC",
        "outputId": "2c7304ec-58fc-48ef-ec88-4d6e9890a04a"
      },
      "execution_count": 26,
      "outputs": [
        {
          "output_type": "stream",
          "name": "stdout",
          "text": [
            "\n",
            " User Asked: Show me Kalki movie seats in Mysore today\n",
            " Movie: None\n",
            " City: Mysore\n",
            "\n",
            " Results:\n",
            "\n",
            " Some Movie - Kingdome, Mysore\n",
            " Total: 154\n",
            " Booked: 133\n",
            " Available: 21\n",
            "\n",
            " Some Movie - Inox Forum, Mysore\n",
            " Total: 109\n",
            " Booked: 20\n",
            " Available: 89\n",
            "\n",
            " Some Movie - PVR Mall, Mysore\n",
            " Total: 171\n",
            " Booked: 124\n",
            " Available: 47\n",
            "\n",
            " Some Movie - DRC Cinemas, Mysore\n",
            " Total: 151\n",
            " Booked: 48\n",
            " Available: 103\n"
          ]
        }
      ]
    }
  ]
}