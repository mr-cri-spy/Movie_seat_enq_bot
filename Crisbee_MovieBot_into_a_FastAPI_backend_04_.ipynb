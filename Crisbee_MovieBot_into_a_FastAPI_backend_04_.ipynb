{
  "nbformat": 4,
  "nbformat_minor": 0,
  "metadata": {
    "colab": {
      "provenance": [],
      "gpuType": "T4",
      "authorship_tag": "ABX9TyNRAU9QqNhFRXQMiG+1szu7",
      "include_colab_link": true
    },
    "kernelspec": {
      "name": "python3",
      "display_name": "Python 3"
    },
    "language_info": {
      "name": "python"
    },
    "accelerator": "GPU"
  },
  "cells": [
    {
      "cell_type": "markdown",
      "metadata": {
        "id": "view-in-github",
        "colab_type": "text"
      },
      "source": [
        "<a href=\"https://colab.research.google.com/github/mr-cri-spy/Movie_seat_enq_bot/blob/main/Crisbee_MovieBot_into_a_FastAPI_backend_04_.ipynb\" target=\"_parent\"><img src=\"https://colab.research.google.com/assets/colab-badge.svg\" alt=\"Open In Colab\"/></a>"
      ]
    },
    {
      "cell_type": "code",
      "source": [
        "!pip install fastapi uvicorn nest-asyncio spacy\n",
        "!python -m spacy download en_core_web_sm\n"
      ],
      "metadata": {
        "colab": {
          "base_uri": "https://localhost:8080/"
        },
        "id": "uRHAD46-suxa",
        "outputId": "b4cd981f-3cec-4344-9e16-771e1b92f698"
      },
      "execution_count": 1,
      "outputs": [
        {
          "output_type": "stream",
          "name": "stdout",
          "text": [
            "Requirement already satisfied: fastapi in /usr/local/lib/python3.11/dist-packages (0.116.1)\n",
            "Requirement already satisfied: uvicorn in /usr/local/lib/python3.11/dist-packages (0.35.0)\n",
            "Requirement already satisfied: nest-asyncio in /usr/local/lib/python3.11/dist-packages (1.6.0)\n",
            "Requirement already satisfied: spacy in /usr/local/lib/python3.11/dist-packages (3.8.7)\n",
            "Requirement already satisfied: starlette<0.48.0,>=0.40.0 in /usr/local/lib/python3.11/dist-packages (from fastapi) (0.47.2)\n",
            "Requirement already satisfied: pydantic!=1.8,!=1.8.1,!=2.0.0,!=2.0.1,!=2.1.0,<3.0.0,>=1.7.4 in /usr/local/lib/python3.11/dist-packages (from fastapi) (2.11.7)\n",
            "Requirement already satisfied: typing-extensions>=4.8.0 in /usr/local/lib/python3.11/dist-packages (from fastapi) (4.14.1)\n",
            "Requirement already satisfied: click>=7.0 in /usr/local/lib/python3.11/dist-packages (from uvicorn) (8.2.1)\n",
            "Requirement already satisfied: h11>=0.8 in /usr/local/lib/python3.11/dist-packages (from uvicorn) (0.16.0)\n",
            "Requirement already satisfied: spacy-legacy<3.1.0,>=3.0.11 in /usr/local/lib/python3.11/dist-packages (from spacy) (3.0.12)\n",
            "Requirement already satisfied: spacy-loggers<2.0.0,>=1.0.0 in /usr/local/lib/python3.11/dist-packages (from spacy) (1.0.5)\n",
            "Requirement already satisfied: murmurhash<1.1.0,>=0.28.0 in /usr/local/lib/python3.11/dist-packages (from spacy) (1.0.13)\n",
            "Requirement already satisfied: cymem<2.1.0,>=2.0.2 in /usr/local/lib/python3.11/dist-packages (from spacy) (2.0.11)\n",
            "Requirement already satisfied: preshed<3.1.0,>=3.0.2 in /usr/local/lib/python3.11/dist-packages (from spacy) (3.0.10)\n",
            "Requirement already satisfied: thinc<8.4.0,>=8.3.4 in /usr/local/lib/python3.11/dist-packages (from spacy) (8.3.6)\n",
            "Requirement already satisfied: wasabi<1.2.0,>=0.9.1 in /usr/local/lib/python3.11/dist-packages (from spacy) (1.1.3)\n",
            "Requirement already satisfied: srsly<3.0.0,>=2.4.3 in /usr/local/lib/python3.11/dist-packages (from spacy) (2.5.1)\n",
            "Requirement already satisfied: catalogue<2.1.0,>=2.0.6 in /usr/local/lib/python3.11/dist-packages (from spacy) (2.0.10)\n",
            "Requirement already satisfied: weasel<0.5.0,>=0.1.0 in /usr/local/lib/python3.11/dist-packages (from spacy) (0.4.1)\n",
            "Requirement already satisfied: typer<1.0.0,>=0.3.0 in /usr/local/lib/python3.11/dist-packages (from spacy) (0.16.0)\n",
            "Requirement already satisfied: tqdm<5.0.0,>=4.38.0 in /usr/local/lib/python3.11/dist-packages (from spacy) (4.67.1)\n",
            "Requirement already satisfied: numpy>=1.19.0 in /usr/local/lib/python3.11/dist-packages (from spacy) (2.0.2)\n",
            "Requirement already satisfied: requests<3.0.0,>=2.13.0 in /usr/local/lib/python3.11/dist-packages (from spacy) (2.32.3)\n",
            "Requirement already satisfied: jinja2 in /usr/local/lib/python3.11/dist-packages (from spacy) (3.1.6)\n",
            "Requirement already satisfied: setuptools in /usr/local/lib/python3.11/dist-packages (from spacy) (75.2.0)\n",
            "Requirement already satisfied: packaging>=20.0 in /usr/local/lib/python3.11/dist-packages (from spacy) (25.0)\n",
            "Requirement already satisfied: langcodes<4.0.0,>=3.2.0 in /usr/local/lib/python3.11/dist-packages (from spacy) (3.5.0)\n",
            "Requirement already satisfied: language-data>=1.2 in /usr/local/lib/python3.11/dist-packages (from langcodes<4.0.0,>=3.2.0->spacy) (1.3.0)\n",
            "Requirement already satisfied: annotated-types>=0.6.0 in /usr/local/lib/python3.11/dist-packages (from pydantic!=1.8,!=1.8.1,!=2.0.0,!=2.0.1,!=2.1.0,<3.0.0,>=1.7.4->fastapi) (0.7.0)\n",
            "Requirement already satisfied: pydantic-core==2.33.2 in /usr/local/lib/python3.11/dist-packages (from pydantic!=1.8,!=1.8.1,!=2.0.0,!=2.0.1,!=2.1.0,<3.0.0,>=1.7.4->fastapi) (2.33.2)\n",
            "Requirement already satisfied: typing-inspection>=0.4.0 in /usr/local/lib/python3.11/dist-packages (from pydantic!=1.8,!=1.8.1,!=2.0.0,!=2.0.1,!=2.1.0,<3.0.0,>=1.7.4->fastapi) (0.4.1)\n",
            "Requirement already satisfied: charset-normalizer<4,>=2 in /usr/local/lib/python3.11/dist-packages (from requests<3.0.0,>=2.13.0->spacy) (3.4.2)\n",
            "Requirement already satisfied: idna<4,>=2.5 in /usr/local/lib/python3.11/dist-packages (from requests<3.0.0,>=2.13.0->spacy) (3.10)\n",
            "Requirement already satisfied: urllib3<3,>=1.21.1 in /usr/local/lib/python3.11/dist-packages (from requests<3.0.0,>=2.13.0->spacy) (2.5.0)\n",
            "Requirement already satisfied: certifi>=2017.4.17 in /usr/local/lib/python3.11/dist-packages (from requests<3.0.0,>=2.13.0->spacy) (2025.7.14)\n",
            "Requirement already satisfied: anyio<5,>=3.6.2 in /usr/local/lib/python3.11/dist-packages (from starlette<0.48.0,>=0.40.0->fastapi) (4.9.0)\n",
            "Requirement already satisfied: blis<1.4.0,>=1.3.0 in /usr/local/lib/python3.11/dist-packages (from thinc<8.4.0,>=8.3.4->spacy) (1.3.0)\n",
            "Requirement already satisfied: confection<1.0.0,>=0.0.1 in /usr/local/lib/python3.11/dist-packages (from thinc<8.4.0,>=8.3.4->spacy) (0.1.5)\n",
            "Requirement already satisfied: shellingham>=1.3.0 in /usr/local/lib/python3.11/dist-packages (from typer<1.0.0,>=0.3.0->spacy) (1.5.4)\n",
            "Requirement already satisfied: rich>=10.11.0 in /usr/local/lib/python3.11/dist-packages (from typer<1.0.0,>=0.3.0->spacy) (13.9.4)\n",
            "Requirement already satisfied: cloudpathlib<1.0.0,>=0.7.0 in /usr/local/lib/python3.11/dist-packages (from weasel<0.5.0,>=0.1.0->spacy) (0.21.1)\n",
            "Requirement already satisfied: smart-open<8.0.0,>=5.2.1 in /usr/local/lib/python3.11/dist-packages (from weasel<0.5.0,>=0.1.0->spacy) (7.3.0.post1)\n",
            "Requirement already satisfied: MarkupSafe>=2.0 in /usr/local/lib/python3.11/dist-packages (from jinja2->spacy) (3.0.2)\n",
            "Requirement already satisfied: sniffio>=1.1 in /usr/local/lib/python3.11/dist-packages (from anyio<5,>=3.6.2->starlette<0.48.0,>=0.40.0->fastapi) (1.3.1)\n",
            "Requirement already satisfied: marisa-trie>=1.1.0 in /usr/local/lib/python3.11/dist-packages (from language-data>=1.2->langcodes<4.0.0,>=3.2.0->spacy) (1.2.1)\n",
            "Requirement already satisfied: markdown-it-py>=2.2.0 in /usr/local/lib/python3.11/dist-packages (from rich>=10.11.0->typer<1.0.0,>=0.3.0->spacy) (3.0.0)\n",
            "Requirement already satisfied: pygments<3.0.0,>=2.13.0 in /usr/local/lib/python3.11/dist-packages (from rich>=10.11.0->typer<1.0.0,>=0.3.0->spacy) (2.19.2)\n",
            "Requirement already satisfied: wrapt in /usr/local/lib/python3.11/dist-packages (from smart-open<8.0.0,>=5.2.1->weasel<0.5.0,>=0.1.0->spacy) (1.17.2)\n",
            "Requirement already satisfied: mdurl~=0.1 in /usr/local/lib/python3.11/dist-packages (from markdown-it-py>=2.2.0->rich>=10.11.0->typer<1.0.0,>=0.3.0->spacy) (0.1.2)\n",
            "Collecting en-core-web-sm==3.8.0\n",
            "  Downloading https://github.com/explosion/spacy-models/releases/download/en_core_web_sm-3.8.0/en_core_web_sm-3.8.0-py3-none-any.whl (12.8 MB)\n",
            "\u001b[2K     \u001b[90m━━━━━━━━━━━━━━━━━━━━━━━━━━━━━━━━━━━━━━━\u001b[0m \u001b[32m12.8/12.8 MB\u001b[0m \u001b[31m126.3 MB/s\u001b[0m eta \u001b[36m0:00:00\u001b[0m\n",
            "\u001b[?25h\u001b[38;5;2m✔ Download and installation successful\u001b[0m\n",
            "You can now load the package via spacy.load('en_core_web_sm')\n",
            "\u001b[38;5;3m⚠ Restart to reload dependencies\u001b[0m\n",
            "If you are in a Jupyter or Colab notebook, you may need to restart Python in\n",
            "order to load all the package's dependencies. You can do this by selecting the\n",
            "'Restart kernel' or 'Restart runtime' option.\n"
          ]
        }
      ]
    },
    {
      "cell_type": "code",
      "source": [
        "# movie_bot_engine.py\n",
        "import spacy\n",
        "from bs4 import BeautifulSoup\n",
        "import random\n",
        "\n",
        "nlp = spacy.load(\"en_core_web_sm\")\n",
        "\n",
        "def extract_movie_city(text):\n",
        "    doc = nlp(text)\n",
        "    movie = city = None\n",
        "    for ent in doc.ents:\n",
        "        if ent.label_ == \"GPE\":\n",
        "            city = city or ent.text\n",
        "        elif ent.label_ in [\"ORG\", \"WORK_OF_ART\"]:\n",
        "            movie = movie or ent.text\n",
        "    return movie, city\n",
        "\n",
        "def simulate_theatre_html(movie, city):\n",
        "    theatres = [\"Kingdome\", \"Inox Forum\", \"PVR Mall\", \"DRC Cinemas\"]\n",
        "    blocks = []\n",
        "    for t in theatres:\n",
        "        total = random.randint(80, 200)\n",
        "        booked = random.randint(10, total - 20)\n",
        "        available = total - booked\n",
        "        html = f\"\"\"\n",
        "        <div class=\"theatre\">\n",
        "            <h3>{movie} - {t}, {city}</h3>\n",
        "            <div class=\"seats\" data-total=\"{total}\" data-booked=\"{booked}\" data-available=\"{available}\"></div>\n",
        "        </div>\n",
        "        \"\"\"\n",
        "        blocks.append(html)\n",
        "    return \"\\n\".join(blocks)\n",
        "\n",
        "def parse_seats(html):\n",
        "    soup = BeautifulSoup(html, \"html.parser\")\n",
        "    theatres = soup.find_all(\"div\", class_=\"theatre\")\n",
        "    parsed = []\n",
        "    for t in theatres:\n",
        "        name = t.find(\"h3\").text\n",
        "        seats = t.find(\"div\", class_=\"seats\")\n",
        "        parsed.append({\n",
        "            \"theatre\": name,\n",
        "            \"total\": int(seats[\"data-total\"]),\n",
        "            \"booked\": int(seats[\"data-booked\"]),\n",
        "            \"available\": int(seats[\"data-available\"])\n",
        "        })\n",
        "    return parsed\n",
        "\n"
      ],
      "metadata": {
        "id": "LWTS9EcIwGtE"
      },
      "execution_count": 4,
      "outputs": []
    },
    {
      "cell_type": "code",
      "source": [
        "# app.py\n",
        "from fastapi import FastAPI\n",
        "from pydantic import BaseModel\n",
        "from movie_bot_engine import extract_movie_city, simulate_theatre_html, parse_seats\n",
        "\n",
        "app = FastAPI()\n",
        "\n",
        "class Query(BaseModel):\n",
        "    message: str\n",
        "\n",
        "@app.post(\"/ask\")\n",
        "def ask_movie_bot(query: Query):\n",
        "    movie, city = extract_movie_city(query.message)\n",
        "    if not movie or not city:\n",
        "        return {\"error\": \"Movie or City not found in query.\"}\n",
        "\n",
        "    html = simulate_theatre_html(movie, city)\n",
        "    results = parse_seats(html)\n",
        "\n",
        "    return {\n",
        "        \"movie\": movie,\n",
        "        \"city\": city,\n",
        "        \"results\": results\n",
        "    }\n"
      ],
      "metadata": {
        "id": "B91CZsUnwXWk"
      },
      "execution_count": 20,
      "outputs": []
    },
    {
      "cell_type": "code",
      "source": [
        "import nest_asyncio\n",
        "import uvicorn\n",
        "\n",
        "nest_asyncio.apply()\n",
        "uvicorn.run(\"app:app\", host=\"0.0.0.0\", port=8000)\n"
      ],
      "metadata": {
        "colab": {
          "base_uri": "https://localhost:8080/"
        },
        "id": "L-EDN5eNw187",
        "outputId": "adaad49e-9c1b-40c3-a95a-020e8b2ec5cb"
      },
      "execution_count": null,
      "outputs": [
        {
          "output_type": "stream",
          "name": "stderr",
          "text": [
            "INFO:     Started server process [198]\n",
            "INFO:     Waiting for application startup.\n",
            "INFO:     Application startup complete.\n",
            "INFO:     Uvicorn running on http://0.0.0.0:8000 (Press CTRL+C to quit)\n"
          ]
        }
      ]
    },
    {
      "cell_type": "code",
      "source": [
        "!pip install pyngrok\n",
        "from pyngrok import ngrok\n",
        "public_url = ngrok.connect(8000)\n",
        "print(\" Public API:\", public_url)\n"
      ],
      "metadata": {
        "id": "aC8LXTVpw_9v"
      },
      "execution_count": null,
      "outputs": []
    },
    {
      "cell_type": "code",
      "source": [
        "from openai import OpenAI\n",
        "from datetime import date\n",
        "\n",
        "user_input = \"Are seats available for Kingdome movie in Mysore today?\"\n",
        "\n",
        "# Prompt Template for LLM to extract info\n",
        "prompt = f\"\"\"\n",
        "Extract the following details:\n",
        "- Movie Name\n",
        "- City\n",
        "- Date (Default to today if not specified)\n",
        "\n",
        "User Input: {user_input}\n",
        "\"\"\"\n",
        "\n",
        "# (Mock response for now)\n",
        "movie = \"Kingdome\"\n",
        "city = \"Mysore\"\n",
        "search_date = str(date.today())\n"
      ],
      "metadata": {
        "id": "7M-6yb3ExCAF"
      },
      "execution_count": null,
      "outputs": []
    },
    {
      "cell_type": "code",
      "source": [
        "import requests\n",
        "from bs4 import BeautifulSoup\n",
        "\n",
        "city = \"mysore\"\n",
        "url = f\"https://in.bookmyshow.com/explore/movies-{city.lower()}/su-from-so\"\n",
        "\n",
        "try:\n",
        "    response = requests.get(url, timeout=10)\n",
        "    soup = BeautifulSoup(response.text, 'html.parser')\n",
        "\n",
        "    # Try to find the movie in listings\n",
        "    found_movies = soup.find_all(\"div\", {\"class\": \"card-title\"})\n",
        "    movie_found = False\n",
        "\n",
        "    for movie_tag in found_movies:\n",
        "        if movie.lower() in movie_tag.text.lower():\n",
        "            movie_found = True\n",
        "            break\n",
        "\n",
        "    if movie_found:\n",
        "        print(f\" '{movie}' is currently showing in {city.title()}. Checking seats next...\")\n",
        "    else:\n",
        "        print(f\" '{movie}' not found in {city.title()}'s listing.\")\n",
        "except:\n",
        "    print(\"  Failed to load the page. Maybe wrong city/movie name or HTML structure changed.\")\n"
      ],
      "metadata": {
        "id": "Wlp7bdY1-Gt7"
      },
      "execution_count": null,
      "outputs": []
    },
    {
      "cell_type": "code",
      "source": [
        "# Simulating seat data (replace with real scraping later)\n",
        "showtimes = [\"10:00 AM\", \"1:30 PM\", \"7:30 PM\"]\n",
        "available_seats = [22, 15, 8]\n",
        "\n",
        "for show, seats in zip(showtimes, available_seats):\n",
        "    print(f\" Show at {show} —  {seats} seats available\")\n"
      ],
      "metadata": {
        "colab": {
          "base_uri": "https://localhost:8080/"
        },
        "id": "mI58j-L3-LR6",
        "outputId": "05d3b4d5-6b7d-4e62-a6cd-5f57e4e49d9b"
      },
      "execution_count": 9,
      "outputs": [
        {
          "output_type": "stream",
          "name": "stdout",
          "text": [
            " Show at 10:00 AM —  22 seats available\n",
            " Show at 1:30 PM —  15 seats available\n",
            " Show at 7:30 PM —  8 seats available\n"
          ]
        }
      ]
    },
    {
      "cell_type": "code",
      "metadata": {
        "id": "2d35cfad"
      },
      "source": [
        "# Write the movie_bot_engine code to a file\n",
        "with open(\"movie_bot_engine.py\", \"w\") as f:\n",
        "    f.write(\"\"\"\n",
        "import spacy\n",
        "from bs4 import BeautifulSoup\n",
        "import random\n",
        "\n",
        "nlp = spacy.load(\"en_core_web_sm\")\n",
        "\n",
        "def extract_movie_city(text):\n",
        "    doc = nlp(text)\n",
        "    movie = city = None\n",
        "    for ent in doc.ents:\n",
        "        if ent.label_ == \"GPE\":\n",
        "            city = city or ent.text\n",
        "        elif ent.label_ in [\"ORG\", \"WORK_OF_ART\"]:\n",
        "            movie = movie or ent.text\n",
        "    return movie, city\n",
        "\n",
        "def simulate_theatre_html(movie, city):\n",
        "    theatres = [\"Kingdome\", \"Inox Forum\", \"PVR Mall\", \"DRC Cinemas\"]\n",
        "    blocks = []\n",
        "    for t in theatres:\n",
        "        total = random.randint(80, 200)\n",
        "        booked = random.randint(10, total - 20)\n",
        "        available = total - booked\n",
        "        html = f'''\n",
        "        <div class=\"theatre\">\n",
        "            <h3>{movie} - {t}, {city}</h3>\n",
        "            <div class=\"seats\" data-total=\"{total}\" data-booked=\"{booked}\" data-available=\"{available}\"></div>\n",
        "        </div>\n",
        "        '''\n",
        "        blocks.append(html)\n",
        "    return \"\\\\n\".join(blocks)\n",
        "\n",
        "def parse_seats(html):\n",
        "    soup = BeautifulSoup(html, \"html.parser\")\n",
        "    theatres = soup.find_all(\"div\", class_=\"theatre\")\n",
        "    parsed = []\n",
        "    for t in theatres:\n",
        "        name = t.find(\"h3\").text\n",
        "        seats = t.find(\"div\", class_=\"seats\")\n",
        "        parsed.append({\n",
        "            \"theatre\": name,\n",
        "            \"total\": int(seats[\"data-total\"]),\n",
        "            \"booked\": int(seats[\"data-booked\"]),\n",
        "            \"available\": int(seats[\"data-available\"])\n",
        "        })\n",
        "    return parsed\n",
        "\"\"\")"
      ],
      "execution_count": null,
      "outputs": []
    }
  ]
}