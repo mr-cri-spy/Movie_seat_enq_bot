{
  "nbformat": 4,
  "nbformat_minor": 0,
  "metadata": {
    "colab": {
      "provenance": [],
      "authorship_tag": "ABX9TyPU8HwDBMibaiyA64HHoI89",
      "include_colab_link": true
    },
    "kernelspec": {
      "name": "python3",
      "display_name": "Python 3"
    },
    "language_info": {
      "name": "python"
    }
  },
  "cells": [
    {
      "cell_type": "markdown",
      "metadata": {
        "id": "view-in-github",
        "colab_type": "text"
      },
      "source": [
        "<a href=\"https://colab.research.google.com/github/mr-cri-spy/Movie_seat_enq_bot/blob/main/movie_seat_availability_agent_with_a_friendly_LLM_style_response_formatter_05.ipynb\" target=\"_parent\"><img src=\"https://colab.research.google.com/assets/colab-badge.svg\" alt=\"Open In Colab\"/></a>"
      ]
    },
    {
      "cell_type": "code",
      "execution_count": null,
      "metadata": {
        "id": "_lNl8fTjKSxt",
        "colab": {
          "base_uri": "https://localhost:8080/"
        },
        "outputId": "c4ef91c1-a2fa-4d84-9fdf-df98dd768789"
      },
      "outputs": [
        {
          "output_type": "stream",
          "name": "stdout",
          "text": [
            " * Serving Flask app '__main__'\n",
            " * Debug mode: off\n"
          ]
        },
        {
          "output_type": "stream",
          "name": "stderr",
          "text": [
            "INFO:werkzeug:\u001b[31m\u001b[1mWARNING: This is a development server. Do not use it in a production deployment. Use a production WSGI server instead.\u001b[0m\n",
            " * Running on http://127.0.0.1:5000\n",
            "INFO:werkzeug:\u001b[33mPress CTRL+C to quit\u001b[0m\n"
          ]
        }
      ],
      "source": [
        "# movie_api.py\n",
        "from flask import Flask, request, jsonify\n",
        "\n",
        "app = Flask(__name__)\n",
        "\n",
        "# Simulated movie data\n",
        "movie_data = {\n",
        "    (\"kingdom\", \"mysore\"): {\"seats_available\": 47},\n",
        "    (\"vikram\", \"bangalore\"): {\"seats_available\": 0},\n",
        "}\n",
        "\n",
        "@app.route('/movie')\n",
        "def get_movie_seats():\n",
        "    movie = request.args.get(\"movie\", \"\").lower()\n",
        "    city = request.args.get(\"city\", \"\").lower()\n",
        "    key = (movie, city)\n",
        "\n",
        "    if key in movie_data:\n",
        "        return jsonify({\n",
        "            \"status\": \"success\",\n",
        "            \"seats_available\": movie_data[key][\"seats_available\"]\n",
        "        })\n",
        "    else:\n",
        "        return jsonify({\n",
        "            \"status\": \"error\",\n",
        "            \"message\": \"No data found\"\n",
        "        })\n",
        "\n",
        "if __name__ == \"__main__\":\n",
        "    app.run(port=5000)\n"
      ]
    },
    {
      "cell_type": "code",
      "source": [
        "python movie_api.py\n",
        "\n"
      ],
      "metadata": {
        "id": "vQUel65hNQft"
      },
      "execution_count": null,
      "outputs": []
    },
    {
      "cell_type": "code",
      "source": [
        "\n",
        "\n",
        "# Write the movie_bot_engine code to a file\n",
        "with open(\"movie_bot_engine.py\", \"w\") as f:\n",
        "    f.write(\"\"\"\n",
        "import spacy\n",
        "from bs4 import BeautifulSoup\n",
        "import random\n",
        "\n",
        "nlp = spacy.load(\"en_core_web_sm\")\n",
        "\n",
        "def extract_movie_city(text):\n",
        "    doc = nlp(text)\n",
        "    movie = city = None\n",
        "    for ent in doc.ents:\n",
        "        if ent.label_ == \"GPE\":\n",
        "            city = city or ent.text\n",
        "        elif ent.label_ in [\"ORG\", \"WORK_OF_ART\"]:\n",
        "            movie = movie or ent.text\n",
        "    return movie, city\n",
        "\n",
        "def simulate_theatre_html(movie, city):\n",
        "    theatres = [\"Kingdome\", \"Inox Forum\", \"PVR Mall\", \"DRC Cinemas\"]\n",
        "    blocks = []\n",
        "    for t in theatres:\n",
        "        total = random.randint(80, 200)\n",
        "        booked = random.randint(10, total - 20)\n",
        "        available = total - booked\n",
        "        html = f'''\n",
        "\n",
        "            {movie} - {t}, {city}\n",
        "\n",
        "\n",
        "        '''\n",
        "        blocks.append(html)\n",
        "    return \"\\n\".join(blocks)\n",
        "\n",
        "def parse_seats(html):\n",
        "    soup = BeautifulSoup(html, \"html.parser\")\n",
        "    theatres = soup.find_all(\"div\", class_=\"theatre\")\n",
        "    parsed = []\n",
        "    for t in theatres:\n",
        "        name = t.find(\"h3\").text\n",
        "        seats = t.find(\"div\", class_=\"seats\")\n",
        "        parsed.append({\n",
        "            \"theatre\": name,\n",
        "            \"total\": int(seats[\"data-total\"]),\n",
        "            \"booked\": int(seats[\"data-booked\"]),\n",
        "            \"available\": int(seats[\"data-available\"])\n",
        "        })\n",
        "    return parsed\n",
        "\"\"\")"
      ],
      "metadata": {
        "id": "RDnSE-YyOZ9j"
      },
      "execution_count": null,
      "outputs": []
    },
    {
      "cell_type": "code",
      "source": [
        "ngrok http 5000\n"
      ],
      "metadata": {
        "id": "UZ8RttkzxifM"
      },
      "execution_count": null,
      "outputs": []
    },
    {
      "cell_type": "code",
      "source": [
        "import requests\n",
        "\n",
        "# Change these based on user input or chatbot parsing\n",
        "movie = \"Kingdom\"\n",
        "city = \"Mysore\"\n",
        "\n",
        "# Replace with your ngrok link\n",
        "ngrok_url = \"https://abc123.ngrok.io\"\n",
        "endpoint = f\"{ngrok_url}/movie?movie={movie}&city={city}\"\n",
        "\n",
        "# Generate LLM-style reply\n",
        "def generate_response(movie, city, data):\n",
        "    if data[\"status\"] == \"success\" and data[\"seats_available\"] > 0:\n",
        "        return f\" Yes! {data['seats_available']} seats are available for \\\"{movie}\\\" in {city}. Want to book?\"\n",
        "    elif data[\"status\"] == \"success\" and data[\"seats_available\"] == 0:\n",
        "        return f\" Sorry, no seats are currently available for \\\"{movie}\\\" in {city}.\"\n",
        "    else:\n",
        "        return f\"⚠ Couldn't find any listings for \\\"{movie}\\\" in {city}. Please check the spelling or try a different movie.\"\n",
        "\n",
        "# Call the API\n",
        "try:\n",
        "    res = requests.get(endpoint)\n",
        "    if res.status_code == 200:\n",
        "        response_data = res.json()\n",
        "        final_answer = generate_response(movie, city, response_data)\n",
        "    else:\n",
        "        final_answer = \" Server error. Try again later.\"\n",
        "except Exception as e:\n",
        "    final_answer = f\" Request failed: {e}\"\n",
        "\n",
        "print(final_answer)\n"
      ],
      "metadata": {
        "id": "Ad-wZJxRx2QE"
      },
      "execution_count": null,
      "outputs": []
    }
  ]
}
