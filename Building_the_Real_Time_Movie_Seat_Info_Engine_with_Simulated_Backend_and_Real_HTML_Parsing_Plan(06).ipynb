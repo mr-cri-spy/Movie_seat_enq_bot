{
  "nbformat": 4,
  "nbformat_minor": 0,
  "metadata": {
    "colab": {
      "provenance": [],
      "authorship_tag": "ABX9TyMu+qcORKxF82o8SJjbxs9V",
      "include_colab_link": true
    },
    "kernelspec": {
      "name": "python3",
      "display_name": "Python 3"
    },
    "language_info": {
      "name": "python"
    }
  },
  "cells": [
    {
      "cell_type": "markdown",
      "metadata": {
        "id": "view-in-github",
        "colab_type": "text"
      },
      "source": [
        "<a href=\"https://colab.research.google.com/github/mr-cri-spy/Movie_seat_enq_bot/blob/main/Building_the_Real_Time_Movie_Seat_Info_Engine_with_Simulated_Backend_and_Real_HTML_Parsing_Plan(06).ipynb\" target=\"_parent\"><img src=\"https://colab.research.google.com/assets/colab-badge.svg\" alt=\"Open In Colab\"/></a>"
      ]
    },
    {
      "cell_type": "code",
      "execution_count": null,
      "metadata": {
        "id": "47p53bi_8m1g"
      },
      "outputs": [],
      "source": []
    },
    {
      "cell_type": "markdown",
      "source": [
        "now i prepare the backend to:\n",
        "\n",
        "Simulate real seat availability with mocked data\n",
        "\n",
        "Lay foundation for future integration with realtime scraping from BookMyShow (i’ll use static HTML structure for now)\n",
        "\n",
        "Enable LLM based question understanding with more natural queries"
      ],
      "metadata": {
        "id": "U-BWUseIRM75"
      }
    },
    {
      "cell_type": "markdown",
      "source": [
        "What it ll be contain  \n",
        "\n",
        "  Simulate static movie theatre seat data right now\n",
        "  Build a clean /movie FastAPI route with query parsing\n",
        "  Update the Colab code to send more human-like questions\n",
        "\tLay foundation for real scraping (via BeautifulSoup)"
      ],
      "metadata": {
        "id": "cWBgGVKARfgT"
      }
    },
    {
      "cell_type": "markdown",
      "source": [
        "Simulated Static Data\n",
        "In your FastAPI backend (app.py), update with this mock dataset inside the route handler:\n"
      ],
      "metadata": {
        "id": "fYWlMoNySBVJ"
      }
    },
    {
      "cell_type": "code",
      "source": [
        "from fastapi import FastAPI, Request\n",
        "from fastapi.responses import JSONResponse\n",
        "from pydantic import BaseModel\n",
        "import random"
      ],
      "metadata": {
        "id": "Sb4YRla3SgiC"
      },
      "execution_count": 1,
      "outputs": []
    },
    {
      "cell_type": "code",
      "source": [
        "app = FastAPI()"
      ],
      "metadata": {
        "id": "fHAVd-mxSna5"
      },
      "execution_count": 2,
      "outputs": []
    },
    {
      "cell_type": "markdown",
      "source": [
        "# Simulated movie data"
      ],
      "metadata": {
        "id": "T5u0Hnw7Sums"
      }
    },
    {
      "cell_type": "code",
      "source": [
        "movie_data = {\n",
        "    \"Mysore\": {\n",
        "        \"Saiyaara\": {\n",
        "            \"theatres\": [\n",
        "                {\"name\": \"INOX Mall of Mysore\", \"available_seats\": 42},\n",
        "                {\"name\": \"DRC Cinemas\", \"available_seats\": 67}\n",
        "            ]\n",
        "        },\n",
        "        \"Su from So\": {\n",
        "            \"theatres\": [\n",
        "                {\"name\": \"INOX Mall of Mysore\", \"available_seats\": 25},\n",
        "                {\"name\": \"Skyline Theatre\", \"available_seats\": 12}\n",
        "            ]\n",
        "        }\n",
        "    }\n",
        "}"
      ],
      "metadata": {
        "id": "LA8JU-1qStqJ"
      },
      "execution_count": 4,
      "outputs": []
    },
    {
      "cell_type": "code",
      "source": [
        "@app.get(\"/movie\")\n",
        "def get_movie_availability(movie: str, city: str):\n",
        "    city = city.title()\n",
        "    movie = movie.title()\n",
        "\n",
        "    if city not in movie_data or movie not in movie_data[city]:\n",
        "        return JSONResponse(\n",
        "            status_code=404,\n",
        "            content={\"message\": f\"Sorry! No info found for '{movie}' in {city}.\"}\n",
        "        )\n",
        "\n",
        "    theatres = movie_data[city][movie][\"theatres\"]\n",
        "    response = {\n",
        "        \"movie\": movie,\n",
        "        \"city\": city,\n",
        "        \"theatres\": theatres\n",
        "    }\n",
        "    return response"
      ],
      "metadata": {
        "id": "oMuQTAPmTJR5"
      },
      "execution_count": 5,
      "outputs": []
    },
    {
      "cell_type": "code",
      "source": [
        "!uvicorn app:app --reload"
      ],
      "metadata": {
        "colab": {
          "base_uri": "https://localhost:8080/"
        },
        "id": "6Ymg5xlJTiWY",
        "outputId": "7d3cfd85-1ac2-4691-8e51-a95ef5bcee3e"
      },
      "execution_count": 7,
      "outputs": [
        {
          "output_type": "stream",
          "name": "stdout",
          "text": [
            "\u001b[32mINFO\u001b[0m:     Will watch for changes in these directories: ['/content']\n",
            "\u001b[32mINFO\u001b[0m:     Uvicorn running on \u001b[1mhttp://127.0.0.1:8000\u001b[0m (Press CTRL+C to quit)\n",
            "\u001b[32mINFO\u001b[0m:     Started reloader process [\u001b[36m\u001b[1m4908\u001b[0m] using \u001b[36m\u001b[1mStatReload\u001b[0m\n",
            "\u001b[31mERROR\u001b[0m:    Error loading ASGI app. Could not import module \"app\".\n",
            "\u001b[32mINFO\u001b[0m:     Stopping reloader process [\u001b[36m\u001b[1m4908\u001b[0m]\n",
            "^C\n"
          ]
        }
      ]
    },
    {
      "cell_type": "markdown",
      "source": [
        "Update the parsing logic to show real simulated responses beautifuly"
      ],
      "metadata": {
        "id": "6wWpHQ-7UpEU"
      }
    },
    {
      "cell_type": "code",
      "source": [
        "import requests\n",
        "\n",
        "def ask_movie_bot(question, movie, city):\n",
        "    ngrok_url = \"https://<your-ngrok-id>.ngrok.io\"  # CHANGE THIS!\n",
        "\n",
        "    try:\n",
        "        response = requests.get(f\"{ngrok_url}/movie\", params={\"movie\": movie, \"city\": city})\n",
        "        if response.status_code == 200:\n",
        "            data = response.json()\n",
        "            theatres = data[\"theatres\"]\n",
        "            print(f\" Movie: {movie} in {city}\")\n",
        "            for t in theatres:\n",
        "                print(f\" {t['name']}:  {t['available_seats']} seats available\")\n",
        "        else:\n",
        "            print(response.json()[\"message\"])\n",
        "    except Exception as e:\n",
        "        print(\" Error:\", e)\n",
        "\n",
        "# Example usage\n",
        "ask_movie_bot(\"are seats available for kingdom in mysore\", \"Saiyaara\", \"Mysore\")\n"
      ],
      "metadata": {
        "id": "5QPgv-iJVFk8"
      },
      "execution_count": 11,
      "outputs": []
    },
    {
      "cell_type": "code",
      "source": [],
      "metadata": {
        "id": "-hUqScqoWXn-"
      },
      "execution_count": null,
      "outputs": []
    }
  ]
}